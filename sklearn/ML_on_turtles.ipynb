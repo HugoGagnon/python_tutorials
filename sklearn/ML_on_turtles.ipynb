{
 "cells": [
  {
   "cell_type": "markdown",
   "metadata": {},
   "source": [
    "# Prediction of turtle sex with Machine Learning\n",
    "\n",
    "What machine learning algorithms do is - in principle - very simple: they are fed with data, that they use to define a *decision surface*, mainly used to cluster or tag new/unknown data. We're going to use turtle shells metrics to try and predict turtles sex.\n",
    "\n",
    "**Supervised** algorithms make use of labelled data, **unsupervised** ones try to cluster the data by the means of mathematics and distance parameters.\n",
    "\n",
    "To start scratching the surface, I recommend the following Udemy's course:\n",
    "https://classroom.udacity.com/courses/ud120\n",
    "\n",
    "### What we will learn\n",
    "\n",
    "With Python' we'll get to making predictions on actual data, by leveraging Principal Component Analisys (PCA) and Machine Learning (ML) algorithms.\n",
    "\n",
    "This is a very tiny dataset, but comes from real data, it's handy to work with and it is as good as any as a starter for learning _sklearn_ syntax.\n",
    "\n",
    "Explanation of the inner clockwork of each ML algorithm as well as algorithm comparison is beyond the scope of this notebook.\n",
    "\n",
    "### Prerequisites\n",
    "The PCA data walkthrough can be found at:\n",
    "https://github.com/Stemanz/python_tutorials/tree/master/PCA"
   ]
  },
  {
   "cell_type": "code",
   "execution_count": 126,
   "metadata": {},
   "outputs": [],
   "source": [
    "import pandas as pd\n",
    "import numpy as np\n",
    "\n",
    "# plotting\n",
    "from matplotlib import pyplot as plt\n",
    "import seaborn as sns\n",
    "%matplotlib inline\n",
    "\n",
    "sep = \"\\t\""
   ]
  },
  {
   "cell_type": "markdown",
   "metadata": {},
   "source": [
    "While already discussed, we're loading and PCA-transforming our real-world dataset from scratch:"
   ]
  },
  {
   "cell_type": "code",
   "execution_count": 127,
   "metadata": {},
   "outputs": [],
   "source": [
    "# ===========================================================\n",
    "# prepping the data with PCA. Full walkthrough:\n",
    "# https://github.com/Stemanz/python_tutorials/tree/master/PCA\n",
    "# ===========================================================\n",
    "from sklearn.decomposition import PCA\n",
    "from sklearn.preprocessing import StandardScaler\n",
    "\n",
    "# load data\n",
    "df = pd.read_csv(\"turtles.csv\", sep=sep)\n",
    "\n",
    "# scale data\n",
    "features = [\"length\", \"width\", \"height\"]\n",
    "x = df.loc[:, features].values\n",
    "import warnings\n",
    "with warnings.catch_warnings():\n",
    "    warnings.simplefilter(\"ignore\") # int64 to float64 warning suppression\n",
    "    x = StandardScaler().fit_transform(x)\n",
    "    dfx = pd.DataFrame(x, columns=features) # back to a dataframe\n",
    "\n",
    "# PCA dimensionality reduction: 3 to 2\n",
    "pca = PCA(n_components=2, whiten=True)\n",
    "PC = pca.fit_transform(x)\n",
    "dfPC = pd.DataFrame(PC, columns=[\"PC1\", \"PC2\"])\n",
    "dfPC[\"Sex\"] = df[\"Sex\"] # retrieving sex info\n",
    "\n",
    "# the dataset is now ready!"
   ]
  },
  {
   "cell_type": "markdown",
   "metadata": {},
   "source": [
    "## Supervised Learning\n",
    "\n",
    "### Dataset splitting into training and testing\n",
    "\n",
    "To compare a few ML algorithms, we're going to split our dataset in two: we'll be using 75% of  our entries to *train* the algorithm, that will subsequently try and predict the labels of our data."
   ]
  },
  {
   "cell_type": "code",
   "execution_count": 128,
   "metadata": {},
   "outputs": [
    {
     "data": {
      "text/html": [
       "<div>\n",
       "<style scoped>\n",
       "    .dataframe tbody tr th:only-of-type {\n",
       "        vertical-align: middle;\n",
       "    }\n",
       "\n",
       "    .dataframe tbody tr th {\n",
       "        vertical-align: top;\n",
       "    }\n",
       "\n",
       "    .dataframe thead th {\n",
       "        text-align: right;\n",
       "    }\n",
       "</style>\n",
       "<table border=\"1\" class=\"dataframe\">\n",
       "  <thead>\n",
       "    <tr style=\"text-align: right;\">\n",
       "      <th></th>\n",
       "      <th>PC1</th>\n",
       "      <th>PC2</th>\n",
       "      <th>Sex</th>\n",
       "    </tr>\n",
       "  </thead>\n",
       "  <tbody>\n",
       "    <tr>\n",
       "      <th>38</th>\n",
       "      <td>-0.458235</td>\n",
       "      <td>-1.088213</td>\n",
       "      <td>M</td>\n",
       "    </tr>\n",
       "    <tr>\n",
       "      <th>13</th>\n",
       "      <td>0.501055</td>\n",
       "      <td>0.506282</td>\n",
       "      <td>F</td>\n",
       "    </tr>\n",
       "    <tr>\n",
       "      <th>12</th>\n",
       "      <td>0.457949</td>\n",
       "      <td>0.767217</td>\n",
       "      <td>F</td>\n",
       "    </tr>\n",
       "    <tr>\n",
       "      <th>42</th>\n",
       "      <td>-0.245810</td>\n",
       "      <td>-1.664088</td>\n",
       "      <td>M</td>\n",
       "    </tr>\n",
       "    <tr>\n",
       "      <th>47</th>\n",
       "      <td>0.477846</td>\n",
       "      <td>-2.425048</td>\n",
       "      <td>M</td>\n",
       "    </tr>\n",
       "  </tbody>\n",
       "</table>\n",
       "</div>"
      ],
      "text/plain": [
       "         PC1       PC2 Sex\n",
       "38 -0.458235 -1.088213   M\n",
       "13  0.501055  0.506282   F\n",
       "12  0.457949  0.767217   F\n",
       "42 -0.245810 -1.664088   M\n",
       "47  0.477846 -2.425048   M"
      ]
     },
     "execution_count": 128,
     "metadata": {},
     "output_type": "execute_result"
    }
   ],
   "source": [
    "from sklearn.model_selection import train_test_split\n",
    "train, test = train_test_split(dfPC, test_size=.25)\n",
    "\n",
    "test.head()"
   ]
  },
  {
   "cell_type": "markdown",
   "metadata": {},
   "source": [
    "*train_test_split* spits back the same _type_ of container it was fed with, so we get back a DataFrame. We now have to transform data according to what _sklearn_ expects, that is:\n",
    "- data as [[float64, float64], ...] array\n",
    "- numerical labels\n",
    "\n",
    "To get the job done quickly, it is better to write down a function that gives back all the stuff we want organized the way we want it."
   ]
  },
  {
   "cell_type": "code",
   "execution_count": 129,
   "metadata": {},
   "outputs": [],
   "source": [
    "def split_dataset(df, labels={\"M\": 0, \"F\": 1}, test_size=.25):\n",
    "    \"\"\"\n",
    "    This functions works with turtle dataset csv. It splits the dataset into\n",
    "    train and test data and labels.\n",
    "    M is sex 0, F is sex 1\n",
    "    \n",
    "    Returns:\n",
    "    train_data, train_labels, test_data, test_labels\n",
    "    \"\"\"\n",
    "    train, test = train_test_split(dfPC, test_size=test_size, random_state=123456)\n",
    "    \n",
    "    # using np.reshape to construct the numpy array.\n",
    "    train_data = np.array(np.reshape(train.iloc[:, [0,1]], (train.shape[0],2)))\n",
    "    test_data  = np.array(np.reshape(test.iloc[:, [0,1]], (test.shape[0],2)))\n",
    "    \n",
    "    # for more complicated label conversions pass custom dict\n",
    "    train_labels = [labels.get(x) for x in train[\"Sex\"]]\n",
    "    test_labels  = [labels.get(x) for x in test[\"Sex\"]]\n",
    "    \n",
    "    return train_data, train_labels, test_data, test_labels"
   ]
  },
  {
   "cell_type": "code",
   "execution_count": 130,
   "metadata": {},
   "outputs": [],
   "source": [
    "train_data, train_labels, test_data, test_labels = split_dataset(dfPC)"
   ]
  },
  {
   "cell_type": "markdown",
   "metadata": {},
   "source": [
    "Now the data is arranged how *sklearn* wants. Here's what train data and labels look like now:"
   ]
  },
  {
   "cell_type": "code",
   "execution_count": 131,
   "metadata": {},
   "outputs": [
    {
     "data": {
      "text/plain": [
       "array([[-1.15773848,  0.80754832],\n",
       "       [ 0.41858888,  0.88961967],\n",
       "       [ 1.83308617,  1.00956637],\n",
       "       [-0.82921809,  0.28526912],\n",
       "       [-0.68077941, -0.40473887]])"
      ]
     },
     "execution_count": 131,
     "metadata": {},
     "output_type": "execute_result"
    }
   ],
   "source": [
    "train_data[:5]"
   ]
  },
  {
   "cell_type": "code",
   "execution_count": 132,
   "metadata": {},
   "outputs": [
    {
     "data": {
      "text/plain": [
       "[1, 1, 1, 1, 0]"
      ]
     },
     "execution_count": 132,
     "metadata": {},
     "output_type": "execute_result"
    }
   ],
   "source": [
    "train_labels[:5]"
   ]
  },
  {
   "cell_type": "markdown",
   "metadata": {},
   "source": [
    "### Naïve Bayes"
   ]
  },
  {
   "cell_type": "code",
   "execution_count": 133,
   "metadata": {},
   "outputs": [],
   "source": [
    "from sklearn.naive_bayes import GaussianNB # NB stands for Naïve Bayes\n",
    "\n",
    "# training\n",
    "clf = GaussianNB()\n",
    "clf.fit(train_data, train_labels)\n",
    "\n",
    "# predicting\n",
    "pred_labels = clf.predict(test_data)"
   ]
  },
  {
   "cell_type": "markdown",
   "metadata": {},
   "source": [
    "Conveniently, different ML algorithms do have the same syntax. The class is instantiated by calling it (with or withour parameters), then it is fitted with **.fit()**.\n",
    "Predictions are made via **.predict()**.\n",
    "\n",
    "If the array is conveniently shaped, it is possible to batch-predict stuff. Also individual points can be predicted, for instance:"
   ]
  },
  {
   "cell_type": "code",
   "execution_count": 134,
   "metadata": {},
   "outputs": [
    {
     "data": {
      "text/plain": [
       "array([1])"
      ]
     },
     "execution_count": 134,
     "metadata": {},
     "output_type": "execute_result"
    }
   ],
   "source": [
    "clf.predict([[ 0.02736815,  2.47830153]]) # note the double square brackets"
   ]
  },
  {
   "cell_type": "markdown",
   "metadata": {},
   "source": [
    "It is crucial to determine the accuracy of the model. _sklearn_ provides a tool that is cross-algorithm."
   ]
  },
  {
   "cell_type": "code",
   "execution_count": 135,
   "metadata": {},
   "outputs": [
    {
     "name": "stdout",
     "output_type": "stream",
     "text": [
      "0.9166666666666666\n"
     ]
    }
   ],
   "source": [
    "from sklearn.metrics import accuracy_score\n",
    "acc = accuracy_score(pred_labels, test_labels)\n",
    "print(acc)"
   ]
  },
  {
   "cell_type": "markdown",
   "metadata": {},
   "source": [
    "Without any help and by just using real world measures and labels, the trained algorithm was able to correctly predict the sex of 91% unknown samples. Not a bad thing!\n",
    "\n",
    "Let's visualize it:"
   ]
  },
  {
   "cell_type": "code",
   "execution_count": 144,
   "metadata": {},
   "outputs": [],
   "source": [
    "# I'm converting back to a dataframe the arrays.\n",
    "# Also, I am giving a large numerical value where predictions DO NOT match input data\n",
    "results = pd.DataFrame(test_data, columns=[\"PC1\", \"PC2\"])\n",
    "results[\"Sex\"] = [\"M\" if x == 0 else \"F\" for x in test_labels]\n",
    "results[\"Match\"] = [20 if x == y else 50 for x,y in zip(test_labels, pred_labels)]\n",
    "\n",
    "traindata = pd.DataFrame(train_data, columns=[\"PC1\", \"PC2\"])\n",
    "traindata[\"Sex\"] = [\"M\" if x == 0 else \"F\" for x in train_labels]\n",
    "traindata[\"Match\"] = [1 for _ in range(traindata.shape[0])]\n",
    "\n",
    "res = pd.concat([results, traindata])"
   ]
  },
  {
   "cell_type": "code",
   "execution_count": 145,
   "metadata": {},
   "outputs": [
    {
     "data": {
      "image/png": "[encoded data removed]",
      "text/plain": [
       "<Figure size 432x288 with 1 Axes>"
      ]
     },
     "metadata": {
      "needs_background": "light"
     },
     "output_type": "display_data"
    }
   ],
   "source": [
    "ax = sns.scatterplot(data=res, x=\"PC1\", y=\"PC2\", hue=\"Sex\", size=\"Match\", sizes=(20,300))"
   ]
  },
  {
   "cell_type": "markdown",
   "metadata": {},
   "source": [
    "This plot shows the training dataset as tiny spots. Larger spots are the ones that have been used as test and correctly predicted. The biggest ones are the ones whose prediction does not match the labels.\n",
    "As the dataset is split randomly each time, results and predictions may vary.\n",
    "\n",
    "\n",
    "It looks like the algorithm misdiagnosed that large male in the middle of the plot as a female: anyway, it would have been tough even for a human!"
   ]
  },
  {
   "cell_type": "code",
   "execution_count": 150,
   "metadata": {},
   "outputs": [
    {
     "name": "stdout",
     "output_type": "stream",
     "text": [
      "Point\tTruth\tPred\tMatch\n",
      "0\tM\tM\t\n",
      "1\tM\tM\t\n",
      "2\tF\tF\t\n",
      "3\tF\tF\t\n",
      "4\tM\tM\t\n",
      "5\tM\tM\t\n",
      "6\tM\tF\tMISPREDICTION!\n",
      "7\tM\tM\t\n",
      "8\tF\tF\t\n",
      "9\tM\tM\t\n",
      "10\tF\tF\t\n",
      "11\tM\tM\t\n"
     ]
    }
   ],
   "source": [
    "# let's see where test and predicted labels differ\n",
    "\n",
    "print(\"Point\", \"Truth\", \"Pred\", \"Match\", sep=sep)\n",
    "for i, elems in enumerate(zip(\n",
    "    [\"M\" if x == 0 else \"F\" for x in test_labels],\n",
    "    [\"M\" if x == 0 else \"F\" for x in pred_labels]\n",
    ")):\n",
    "    t, p = elems\n",
    "    if t != p:\n",
    "        error = \"MISPREDICTION!\"\n",
    "    else:\n",
    "        error = \"\"\n",
    "        \n",
    "    print(i, t, p, error, sep=sep)"
   ]
  },
  {
   "cell_type": "code",
   "execution_count": null,
   "metadata": {},
   "outputs": [],
   "source": []
  }
 ],
 "metadata": {
  "kernelspec": {
   "display_name": "Python 3",
   "language": "python",
   "name": "python3"
  },
  "language_info": {
   "codemirror_mode": {
    "name": "ipython",
    "version": 3
   },
   "file_extension": ".py",
   "mimetype": "text/x-python",
   "name": "python",
   "nbconvert_exporter": "python",
   "pygments_lexer": "ipython3",
   "version": "3.7.0"
  }
 },
 "nbformat": 4,
 "nbformat_minor": 2
}
