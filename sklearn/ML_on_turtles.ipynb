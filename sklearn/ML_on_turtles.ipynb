{
 "cells": [
  {
   "cell_type": "markdown",
   "metadata": {},
   "source": [
    "# Prediction of turtle sex with Machine Learning\n",
    "\n",
    "What machine learning algorithms do is - in principle - very simple: they are fed with data, that they use to define a *decision surface*, mainly used to cluster or tag new/unknown data. We're going to use turtle shells metrics to try and predict turtles sex.\n",
    "\n",
    "**Supervised** algorithms make use of labelled data, **unsupervised** ones try to cluster the data by the means of mathematics and distance parameters.\n",
    "\n",
    "To start scratching the surface, I recommend the following Udemy's course:\n",
    "https://classroom.udacity.com/courses/ud120\n",
    "\n",
    "### What we will learn\n",
    "\n",
    "With Python' we'll get to making predictions on actual data, by leveraging Principal Component Analisys (PCA) and Machine Learning (ML) algorithms.\n",
    "\n",
    "This is a very tiny dataset, but comes from real data, it's handy to work with and it is as good as any as a starter for learning _sklearn_ syntax.\n",
    "\n",
    "Explanation of the inner clockwork of each ML algorithm as well as algorithm comparison is beyond the scope of this notebook.\n",
    "\n",
    "### Prerequisites\n",
    "The PCA data walkthrough can be found at:\n",
    "https://github.com/Stemanz/python_tutorials/tree/master/PCA"
   ]
  },
  {
   "cell_type": "code",
   "execution_count": 96,
   "metadata": {},
   "outputs": [],
   "source": [
    "import pandas as pd\n",
    "import numpy as np\n",
    "\n",
    "# plotting\n",
    "from matplotlib import pyplot as plt\n",
    "import seaborn as sns\n",
    "%matplotlib inline\n",
    "\n",
    "sep = \"\\t\""
   ]
  },
  {
   "cell_type": "markdown",
   "metadata": {},
   "source": [
    "While already discussed, we're loading and PCA-transforming our real-world dataset from scratch:"
   ]
  },
  {
   "cell_type": "code",
   "execution_count": 97,
   "metadata": {},
   "outputs": [],
   "source": [
    "# ===========================================================\n",
    "# prepping the data with PCA. Full walkthrough:\n",
    "# https://github.com/Stemanz/python_tutorials/tree/master/PCA\n",
    "# ===========================================================\n",
    "from sklearn.decomposition import PCA\n",
    "from sklearn.preprocessing import StandardScaler\n",
    "\n",
    "# load data\n",
    "df = pd.read_csv(\"turtles.csv\", sep=sep)\n",
    "\n",
    "# scale data\n",
    "features = [\"length\", \"width\", \"height\"]\n",
    "x = df.loc[:, features].values\n",
    "import warnings\n",
    "with warnings.catch_warnings():\n",
    "    warnings.simplefilter(\"ignore\") # int64 to float64 warning suppression\n",
    "    x = StandardScaler().fit_transform(x)\n",
    "    dfx = pd.DataFrame(x, columns=features) # back to a dataframe\n",
    "\n",
    "# PCA dimensionality reduction: 3 to 2\n",
    "pca = PCA(n_components=2, whiten=True)\n",
    "PC = pca.fit_transform(x)\n",
    "dfPC = pd.DataFrame(PC, columns=[\"PC1\", \"PC2\"])\n",
    "dfPC[\"Sex\"] = df[\"Sex\"] # retrieving sex info\n",
    "\n",
    "# the dataset is now ready!"
   ]
  },
  {
   "cell_type": "markdown",
   "metadata": {},
   "source": [
    "## Data preprocessing\n",
    "\n",
    "### Dataset splitting into training and testing\n",
    "\n",
    "To compare a few ML algorithms, we're going to split our dataset in two: we'll be using 75% of  our entries to *train* the algorithm, that will subsequently try and predict the labels of our data."
   ]
  },
  {
   "cell_type": "code",
   "execution_count": 98,
   "metadata": {},
   "outputs": [
    {
     "data": {
      "text/html": [
       "<div>\n",
       "<style scoped>\n",
       "    .dataframe tbody tr th:only-of-type {\n",
       "        vertical-align: middle;\n",
       "    }\n",
       "\n",
       "    .dataframe tbody tr th {\n",
       "        vertical-align: top;\n",
       "    }\n",
       "\n",
       "    .dataframe thead th {\n",
       "        text-align: right;\n",
       "    }\n",
       "</style>\n",
       "<table border=\"1\" class=\"dataframe\">\n",
       "  <thead>\n",
       "    <tr style=\"text-align: right;\">\n",
       "      <th></th>\n",
       "      <th>PC1</th>\n",
       "      <th>PC2</th>\n",
       "      <th>Sex</th>\n",
       "    </tr>\n",
       "  </thead>\n",
       "  <tbody>\n",
       "    <tr>\n",
       "      <th>6</th>\n",
       "      <td>-0.052810</td>\n",
       "      <td>0.054038</td>\n",
       "      <td>F</td>\n",
       "    </tr>\n",
       "    <tr>\n",
       "      <th>38</th>\n",
       "      <td>-0.458235</td>\n",
       "      <td>-1.088213</td>\n",
       "      <td>M</td>\n",
       "    </tr>\n",
       "    <tr>\n",
       "      <th>8</th>\n",
       "      <td>0.498425</td>\n",
       "      <td>0.336818</td>\n",
       "      <td>F</td>\n",
       "    </tr>\n",
       "    <tr>\n",
       "      <th>20</th>\n",
       "      <td>1.696753</td>\n",
       "      <td>1.171171</td>\n",
       "      <td>F</td>\n",
       "    </tr>\n",
       "    <tr>\n",
       "      <th>36</th>\n",
       "      <td>-0.421334</td>\n",
       "      <td>0.108452</td>\n",
       "      <td>M</td>\n",
       "    </tr>\n",
       "  </tbody>\n",
       "</table>\n",
       "</div>"
      ],
      "text/plain": [
       "         PC1       PC2 Sex\n",
       "6  -0.052810  0.054038   F\n",
       "38 -0.458235 -1.088213   M\n",
       "8   0.498425  0.336818   F\n",
       "20  1.696753  1.171171   F\n",
       "36 -0.421334  0.108452   M"
      ]
     },
     "execution_count": 98,
     "metadata": {},
     "output_type": "execute_result"
    }
   ],
   "source": [
    "from sklearn.model_selection import train_test_split\n",
    "train, test = train_test_split(dfPC, test_size=.25)\n",
    "\n",
    "test.head()"
   ]
  },
  {
   "cell_type": "markdown",
   "metadata": {},
   "source": [
    "*train_test_split* spits back the same _type_ of container it was fed with, so we get back a DataFrame. We now have to transform data according to what _sklearn_ expects, that is:\n",
    "- data as [[float64, float64], ...] array\n",
    "- numerical labels\n",
    "\n",
    "To get the job done quickly, it is better to write down a function that gives back all the stuff we want organized the way we want it.\n",
    "\n",
    "**Note**: I'll be making use of *np.reshape*, a Numpy function that comes in handy when in need to reshaping vectors into subvectors. I strongly recommend you to tamper with it by making an array - say, *np.array(range(40))* - , and feed it to *np.reshape* asking for varying geometries, to see what it spits out. Read the doc with *help(np.reshape)*. Pay attention that the new shape parameter expects a *tuple*."
   ]
  },
  {
   "cell_type": "code",
   "execution_count": 99,
   "metadata": {},
   "outputs": [],
   "source": [
    "def split_dataset(df, labels={\"M\": 0, \"F\": 1}, test_size=.25):\n",
    "    \"\"\"\n",
    "    This functions works with turtle dataset csv. It splits the dataset into\n",
    "    train and test data and labels.\n",
    "    M is sex 0, F is sex 1\n",
    "    \n",
    "    Returns:\n",
    "    train_data, train_labels, test_data, test_labels\n",
    "    \"\"\"\n",
    "    train, test = train_test_split(dfPC, test_size=test_size, random_state=123456)\n",
    "    \n",
    "    # using np.reshape to construct the numpy array.\n",
    "    train_data = np.array(np.reshape(train.iloc[:, [0,1]], (train.shape[0],2)))\n",
    "    test_data  = np.array(np.reshape(test.iloc[:, [0,1]], (test.shape[0],2)))\n",
    "    \n",
    "    # for more complicated label conversions pass custom dict\n",
    "    train_labels = [labels.get(x) for x in train[\"Sex\"]]\n",
    "    test_labels  = [labels.get(x) for x in test[\"Sex\"]]\n",
    "    \n",
    "    return train_data, train_labels, test_data, test_labels"
   ]
  },
  {
   "cell_type": "code",
   "execution_count": 100,
   "metadata": {},
   "outputs": [],
   "source": [
    "train_data, train_labels, test_data, test_labels = split_dataset(dfPC)"
   ]
  },
  {
   "cell_type": "markdown",
   "metadata": {},
   "source": [
    "Now the data is arranged how *sklearn* wants. Here's what train data and labels look like now:"
   ]
  },
  {
   "cell_type": "code",
   "execution_count": 101,
   "metadata": {},
   "outputs": [
    {
     "data": {
      "text/plain": [
       "array([[-1.15773848,  0.80754832],\n",
       "       [ 0.41858888,  0.88961967],\n",
       "       [ 1.83308617,  1.00956637],\n",
       "       [-0.82921809,  0.28526912],\n",
       "       [-0.68077941, -0.40473887]])"
      ]
     },
     "execution_count": 101,
     "metadata": {},
     "output_type": "execute_result"
    }
   ],
   "source": [
    "train_data[:5]"
   ]
  },
  {
   "cell_type": "code",
   "execution_count": 102,
   "metadata": {},
   "outputs": [
    {
     "data": {
      "text/plain": [
       "[1, 1, 1, 1, 0]"
      ]
     },
     "execution_count": 102,
     "metadata": {},
     "output_type": "execute_result"
    }
   ],
   "source": [
    "train_labels[:5]"
   ]
  },
  {
   "cell_type": "markdown",
   "metadata": {},
   "source": [
    "## Supervised ML algorithms\n",
    "\n",
    "### Naïve Bayes\n",
    "\n",
    "For each algorithm, if you are interested in the inner workings or the parameters, watch some youtube videos and read *sklearn* documentation. In here I'll cover **how they are deployed**."
   ]
  },
  {
   "cell_type": "code",
   "execution_count": 103,
   "metadata": {},
   "outputs": [],
   "source": [
    "from sklearn.naive_bayes import GaussianNB # NB stands for Naïve Bayes\n",
    "\n",
    "# training\n",
    "clf = GaussianNB()\n",
    "clf.fit(train_data, train_labels)\n",
    "\n",
    "# predicting\n",
    "pred_labels = clf.predict(test_data)"
   ]
  },
  {
   "cell_type": "markdown",
   "metadata": {},
   "source": [
    "Conveniently, different ML algorithms do have the same syntax. The class is instantiated by calling it (with or withour parameters), then it is fitted with **.fit()**.\n",
    "Predictions are made via **.predict()**.\n",
    "\n",
    "If the array is conveniently shaped, it is possible to batch-predict stuff. Also individual points can be predicted, for instance:"
   ]
  },
  {
   "cell_type": "code",
   "execution_count": 104,
   "metadata": {},
   "outputs": [
    {
     "data": {
      "text/plain": [
       "array([1])"
      ]
     },
     "execution_count": 104,
     "metadata": {},
     "output_type": "execute_result"
    }
   ],
   "source": [
    "clf.predict([[ 0.02736815,  2.47830153]]) # note the double square brackets"
   ]
  },
  {
   "cell_type": "markdown",
   "metadata": {},
   "source": [
    "#### Checking the accuracy of predictions\n",
    "\n",
    "It is crucial to determine the accuracy of the model. _sklearn_ provides a tool that is cross-algorithm."
   ]
  },
  {
   "cell_type": "code",
   "execution_count": 105,
   "metadata": {},
   "outputs": [
    {
     "name": "stdout",
     "output_type": "stream",
     "text": [
      "91.67%\n"
     ]
    }
   ],
   "source": [
    "from sklearn.metrics import accuracy_score\n",
    "acc = accuracy_score(pred_labels, test_labels)\n",
    "print(round(acc*100, 2), \"%\", sep=\"\")"
   ]
  },
  {
   "cell_type": "markdown",
   "metadata": {},
   "source": [
    "Without any help and by just using real world measures and labels, the trained algorithm was able to correctly predict the sex of 91% unknown samples. Not a bad thing!\n",
    "\n",
    "#### Plotting the data\n",
    "Let's visualize it:"
   ]
  },
  {
   "cell_type": "code",
   "execution_count": 106,
   "metadata": {},
   "outputs": [],
   "source": [
    "# I'm converting back to a dataframe the arrays.\n",
    "# Also, I am giving a large numerical value where predictions DO NOT match input data\n",
    "results = pd.DataFrame(test_data, columns=[\"PC1\", \"PC2\"])\n",
    "results[\"Sex\"] = [\"M\" if x == 0 else \"F\" for x in test_labels]\n",
    "results[\"Match\"] = [20 if x == y else 50 for x,y in zip(test_labels, pred_labels)]\n",
    "\n",
    "traindata = pd.DataFrame(train_data, columns=[\"PC1\", \"PC2\"])\n",
    "traindata[\"Sex\"] = [\"M\" if x == 0 else \"F\" for x in train_labels]\n",
    "traindata[\"Match\"] = [1 for _ in range(traindata.shape[0])]\n",
    "\n",
    "res = pd.concat([results, traindata])"
   ]
  },
  {
   "cell_type": "code",
   "execution_count": 107,
   "metadata": {},
   "outputs": [
    {
     "data": {
      "image/png": "[encoded data removed]",
      "text/plain": [
       "<Figure size 432x288 with 1 Axes>"
      ]
     },
     "metadata": {
      "needs_background": "light"
     },
     "output_type": "display_data"
    }
   ],
   "source": [
    "ax = sns.scatterplot(data=res, x=\"PC1\", y=\"PC2\", hue=\"Sex\", size=\"Match\", sizes=(20,300))"
   ]
  },
  {
   "cell_type": "markdown",
   "metadata": {},
   "source": [
    "This plot shows the training dataset as tiny spots. Larger spots are the ones that have been used as test and correctly predicted. The biggest ones are the ones whose prediction does not match the labels.\n",
    "As the dataset is split randomly each time, results and predictions may vary in your analysis (in mine, I've set the random number generator seed, so each time the random choices will be the same).\n",
    "\n",
    "\n",
    "It looks like the algorithm misdiagnosed that large male in the middle of the plot as a female: anyway, it would have been tough even for a human!"
   ]
  },
  {
   "cell_type": "code",
   "execution_count": 108,
   "metadata": {},
   "outputs": [
    {
     "name": "stdout",
     "output_type": "stream",
     "text": [
      "Point\tTruth\tPred\tMatch\n",
      "0\tM\tM\t\n",
      "1\tM\tM\t\n",
      "2\tF\tF\t\n",
      "3\tF\tF\t\n",
      "4\tM\tM\t\n",
      "5\tM\tM\t\n",
      "6\tM\tF\tMISPREDICTION!\n",
      "7\tM\tM\t\n",
      "8\tF\tF\t\n",
      "9\tM\tM\t\n",
      "10\tF\tF\t\n",
      "11\tM\tM\t\n"
     ]
    }
   ],
   "source": [
    "# let's see where test and predicted labels differ\n",
    "\n",
    "print(\"Point\", \"Truth\", \"Pred\", \"Match\", sep=sep)\n",
    "for i, elems in enumerate(zip(\n",
    "    [\"M\" if x == 0 else \"F\" for x in test_labels],\n",
    "    [\"M\" if x == 0 else \"F\" for x in pred_labels]\n",
    ")):\n",
    "    t, p = elems\n",
    "    if t != p:\n",
    "        error = \"MISPREDICTION!\"\n",
    "    else:\n",
    "        error = \"\"\n",
    "        \n",
    "    print(i, t, p, error, sep=sep)"
   ]
  },
  {
   "cell_type": "markdown",
   "metadata": {},
   "source": [
    "#### Plotting the decision surface\n",
    "\n",
    "Last, we can actually visualize the decision boundary of the machine learning algorithm. There's no need to get mad and implement that ourselves, as *mlxtend* does the job for us. It needs the original data and our trained classifier, and its use is super easy.\n",
    "\n",
    "You can install it via the command line:\n",
    "\n",
    "`pip install mlxtend`"
   ]
  },
  {
   "cell_type": "code",
   "execution_count": 132,
   "metadata": {},
   "outputs": [
    {
     "data": {
      "text/plain": [
       "<matplotlib.axes._subplots.AxesSubplot at 0x119c734a8>"
      ]
     },
     "execution_count": 132,
     "metadata": {},
     "output_type": "execute_result"
    },
    {
     "data": {
      "image/png": "[encoded data removed]",
      "text/plain": [
       "<Figure size 648x360 with 1 Axes>"
      ]
     },
     "metadata": {
      "needs_background": "light"
     },
     "output_type": "display_data"
    }
   ],
   "source": [
    "from mlxtend.plotting import plot_decision_regions\n",
    "\n",
    "fig = plt.figure(figsize=(9,5))\n",
    "fig.suptitle(\"Naïve Bayes\", size=18)\n",
    "ax = sns.scatterplot(data=res, x=\"PC1\", y=\"PC2\", hue=\"Sex\", size=\"Match\", sizes=(20,300))\n",
    "ax.set_title(\"■ / ▲ = train data  Circles = predictions  Big circles = failed predictions\")\n",
    "plot_decision_regions(train_data, np.array(train_labels), clf=clf, legend=5)\n",
    "\n",
    "# train_data and train_labels are the X and y parameters that plot_decision_regions()\n",
    "# expects. The y can't just be a listlike element: we must convert it into a np-array"
   ]
  },
  {
   "cell_type": "markdown",
   "metadata": {},
   "source": [
    "That was the reason that male was mispredicted as female!"
   ]
  },
  {
   "cell_type": "markdown",
   "metadata": {},
   "source": [
    "### SVM (Support Vector Machines)\n",
    "\n",
    "We now go over the algorithms quicker, as the same general scheme is followed.\n",
    "\n",
    "Note that SVM expects that the data is *linearly separable*. When it is not, tricks can be employed to make it linearly separable (i.e. squaring variables, taking the modulus of variables, and so on.). These are referred to as *kernel tricks*. Try some different to find the one that suits your data the most!"
   ]
  },
  {
   "cell_type": "code",
   "execution_count": 110,
   "metadata": {},
   "outputs": [
    {
     "name": "stdout",
     "output_type": "stream",
     "text": [
      "100.0%\n"
     ]
    }
   ],
   "source": [
    "from sklearn.svm import SVC\n",
    "\n",
    "# training\n",
    "clf = SVC(kernel=\"linear\")\n",
    "clf.fit(train_data, train_labels)\n",
    "\n",
    "# predicting\n",
    "pred_labels = clf.predict(test_data)\n",
    "\n",
    "# testing the accuracy of predictions\n",
    "acc = accuracy_score(pred_labels, test_labels)\n",
    "print(round(acc*100, 2), \"%\", sep=\"\")"
   ]
  },
  {
   "cell_type": "markdown",
   "metadata": {},
   "source": [
    "Yay! This time we got everything done right! Let's see how the decision boundary looks like."
   ]
  },
  {
   "cell_type": "code",
   "execution_count": 131,
   "metadata": {},
   "outputs": [
    {
     "data": {
      "text/plain": [
       "<matplotlib.axes._subplots.AxesSubplot at 0x119b30400>"
      ]
     },
     "execution_count": 131,
     "metadata": {},
     "output_type": "execute_result"
    },
    {
     "data": {
      "image/png": "[encoded data removed]",
      "text/plain": [
       "<Figure size 648x360 with 1 Axes>"
      ]
     },
     "metadata": {
      "needs_background": "light"
     },
     "output_type": "display_data"
    }
   ],
   "source": [
    "# putting predictions back into a suitable DataFrame\n",
    "# and assigning weigths for OK and failed predictions\n",
    "# ===================================================\n",
    "results = pd.DataFrame(test_data, columns=[\"PC1\", \"PC2\"])\n",
    "results[\"Sex\"] = [\"M\" if x == 0 else \"F\" for x in test_labels]\n",
    "results[\"Match\"] = [20 if x == y else 50 for x,y in zip(test_labels, pred_labels)]\n",
    "\n",
    "traindata = pd.DataFrame(train_data, columns=[\"PC1\", \"PC2\"])\n",
    "traindata[\"Sex\"] = [\"M\" if x == 0 else \"F\" for x in train_labels]\n",
    "traindata[\"Match\"] = [1 for _ in range(traindata.shape[0])]\n",
    "\n",
    "res = pd.concat([results, traindata])\n",
    "\n",
    "\n",
    "# plotting the data and the decision boundary\n",
    "# ===========================================\n",
    "fig = plt.figure(figsize=(9,5))\n",
    "fig.suptitle(\"Support Vector Machines\", size=18)\n",
    "ax = sns.scatterplot(data=res, x=\"PC1\", y=\"PC2\", hue=\"Sex\", size=\"Match\", sizes=(20,300))\n",
    "ax.set_title(\"■ / ▲ = train data  Circles = predictions  Big circles = failed predictions\")\n",
    "plot_decision_regions(train_data, np.array(train_labels), clf=clf, legend=5)"
   ]
  },
  {
   "cell_type": "markdown",
   "metadata": {},
   "source": [
    "We're now trying with a new kernel. From the doc:\n",
    "\n",
    "> Specifies the kernel type to be used in the algorithm. It must be one of ‘linear’, ‘poly’, ‘rbf’, ‘sigmoid’, ‘precomputed’ or a callable. \n",
    "\n",
    "Conveniently, *callable* is a custom function. We're going to stick with builtin ones for now ;)"
   ]
  },
  {
   "cell_type": "code",
   "execution_count": 112,
   "metadata": {},
   "outputs": [
    {
     "name": "stdout",
     "output_type": "stream",
     "text": [
      "100.0%\n"
     ]
    }
   ],
   "source": [
    "# SVC training with another kernel\n",
    "\n",
    "# training\n",
    "clf = SVC(kernel=\"rbf\", gamma=\"scale\")\n",
    "clf.fit(train_data, train_labels)\n",
    "\n",
    "# predicting\n",
    "pred_labels = clf.predict(test_data)\n",
    "\n",
    "# testing the accuracy of predictions\n",
    "acc = accuracy_score(pred_labels, test_labels)\n",
    "print(round(acc*100, 2), \"%\", sep=\"\")"
   ]
  },
  {
   "cell_type": "code",
   "execution_count": 130,
   "metadata": {},
   "outputs": [
    {
     "data": {
      "text/plain": [
       "<matplotlib.axes._subplots.AxesSubplot at 0x1199011d0>"
      ]
     },
     "execution_count": 130,
     "metadata": {},
     "output_type": "execute_result"
    },
    {
     "data": {
      "image/png": "[encoded data removed]",
      "text/plain": [
       "<Figure size 648x360 with 1 Axes>"
      ]
     },
     "metadata": {
      "needs_background": "light"
     },
     "output_type": "display_data"
    }
   ],
   "source": [
    "# all preds are good, no need to recompute accuracy weights\n",
    "\n",
    "# plotting the data and the decision boundary\n",
    "# ===========================================\n",
    "fig = plt.figure(figsize=(9,5))\n",
    "fig.suptitle(\"Support Vector Machines, other kernel\", size=18)\n",
    "ax = sns.scatterplot(data=res, x=\"PC1\", y=\"PC2\", hue=\"Sex\", size=\"Match\", sizes=(20,300))\n",
    "ax.set_title(\"■ / ▲ = train data  Circles = predictions  Big circles = failed predictions\")\n",
    "plot_decision_regions(train_data, np.array(train_labels), clf=clf, legend=5)"
   ]
  },
  {
   "cell_type": "markdown",
   "metadata": {},
   "source": [
    "As you can see, kernel tricks do play a **huge** role in defining SVM behavior!\n",
    "\n",
    "Other parameters that should be taken into account are *C* and *gamma*. Roughly, *C* controls the tradeoff between having a smooth decision boundary and classifying the points correctly. Whereas, *gamma* defines how far each single training point weighs into defining the decision boundary.\n",
    "\n",
    "As always, get your hands dirty into changing parameters and see how they shape the results and the decision boundary.\n",
    "\n",
    "Please note that classifying correctly all the points, at the cost of generating a very wiggly decision boundary, is _**not**_ what we aim at. Tweaking the parameters too much can result in **overfitting**, which should be avoided.\n",
    "\n",
    "#### Small recap of important parameters\n",
    "\n",
    "kernel\n",
    "\n",
    "C\n",
    "\n",
    "gamma"
   ]
  },
  {
   "cell_type": "markdown",
   "metadata": {},
   "source": [
    "### Decision Tree"
   ]
  },
  {
   "cell_type": "code",
   "execution_count": 114,
   "metadata": {},
   "outputs": [
    {
     "name": "stdout",
     "output_type": "stream",
     "text": [
      "83.33%\n"
     ]
    }
   ],
   "source": [
    "from sklearn import tree\n",
    "\n",
    "# training\n",
    "clf = tree.DecisionTreeClassifier()\n",
    "clf.fit(train_data, train_labels)\n",
    "\n",
    "# predicting\n",
    "pred_labels = clf.predict(test_data)\n",
    "\n",
    "# testing the accuracy of predictions\n",
    "acc = accuracy_score(pred_labels, test_labels)\n",
    "print(round(acc*100, 2), \"%\", sep=\"\")"
   ]
  },
  {
   "cell_type": "code",
   "execution_count": 115,
   "metadata": {},
   "outputs": [
    {
     "data": {
      "text/plain": [
       "<matplotlib.axes._subplots.AxesSubplot at 0x119892400>"
      ]
     },
     "execution_count": 115,
     "metadata": {},
     "output_type": "execute_result"
    },
    {
     "data": {
      "image/png": "[encoded data removed]",
      "text/plain": [
       "<Figure size 648x360 with 1 Axes>"
      ]
     },
     "metadata": {
      "needs_background": "light"
     },
     "output_type": "display_data"
    }
   ],
   "source": [
    "# putting predictions back into a suitable DataFrame\n",
    "# and assigning weigths for OK and failed predictions\n",
    "# ===================================================\n",
    "results = pd.DataFrame(test_data, columns=[\"PC1\", \"PC2\"])\n",
    "results[\"Sex\"] = [\"M\" if x == 0 else \"F\" for x in test_labels]\n",
    "results[\"Match\"] = [20 if x == y else 50 for x,y in zip(test_labels, pred_labels)]\n",
    "\n",
    "traindata = pd.DataFrame(train_data, columns=[\"PC1\", \"PC2\"])\n",
    "traindata[\"Sex\"] = [\"M\" if x == 0 else \"F\" for x in train_labels]\n",
    "traindata[\"Match\"] = [1 for _ in range(traindata.shape[0])]\n",
    "\n",
    "res = pd.concat([results, traindata])\n",
    "\n",
    "\n",
    "# plotting the data and the decision boundary\n",
    "# ===========================================\n",
    "fig = plt.figure(figsize=(9,5))\n",
    "fig.suptitle(\"Decision Trees\", size=18)\n",
    "ax = sns.scatterplot(data=res, x=\"PC1\", y=\"PC2\", hue=\"Sex\", size=\"Match\", sizes=(20,300))\n",
    "ax.set_title(\"■ / ▲ = train data  Circles = predictions  Big circles = failed predictions\")\n",
    "plot_decision_regions(train_data, np.array(train_labels), clf=clf, legend=5)"
   ]
  },
  {
   "cell_type": "code",
   "execution_count": null,
   "metadata": {},
   "outputs": [],
   "source": []
  }
 ],
 "metadata": {
  "kernelspec": {
   "display_name": "Python 3",
   "language": "python",
   "name": "python3"
  },
  "language_info": {
   "codemirror_mode": {
    "name": "ipython",
    "version": 3
   },
   "file_extension": ".py",
   "mimetype": "text/x-python",
   "name": "python",
   "nbconvert_exporter": "python",
   "pygments_lexer": "ipython3",
   "version": "3.7.0"
  }
 },
 "nbformat": 4,
 "nbformat_minor": 2
}
